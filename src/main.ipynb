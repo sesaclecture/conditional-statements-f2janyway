{
 "cells": [
  {
   "cell_type": "code",
   "execution_count": 1,
   "id": "521d49af",
   "metadata": {},
   "outputs": [
    {
     "name": "stdout",
     "output_type": "stream",
     "text": [
      "heelo\n"
     ]
    }
   ],
   "source": [
    "print(\"heelo\")"
   ]
  },
  {
   "cell_type": "code",
   "execution_count": 6,
   "id": "5a232c80",
   "metadata": {},
   "outputs": [
    {
     "name": "stdout",
     "output_type": "stream",
     "text": [
      "1999-01-01\n",
      "Valid birthdate format.\n"
     ]
    }
   ],
   "source": [
    "import re\n",
    "# re.match returns a match object if the pattern matches, otherwise None.\n",
    "# To check if it matches, compare with None, not True.\n",
    "\n",
    "new_birth = input(\"Birthdate (YYYY-MM-DD): \")\n",
    "print(new_birth)\n",
    "if  not re.match(r\"^\\d{4}-\\d{2}-\\d{2}$\", new_birth):\n",
    "    print(\"Birthdate must be in YYYY-MM-DD format.\")\n",
    "else:\n",
    "    print(\"Valid birthdate format.\")"
   ]
  },
  {
   "cell_type": "code",
   "execution_count": null,
   "id": "12b5efa1",
   "metadata": {},
   "outputs": [],
   "source": []
  },
  {
   "cell_type": "code",
   "execution_count": null,
   "id": "bbdf2c42",
   "metadata": {},
   "outputs": [],
   "source": []
  }
 ],
 "metadata": {
  "kernelspec": {
   "display_name": ".venv (3.12.3)",
   "language": "python",
   "name": "python3"
  },
  "language_info": {
   "codemirror_mode": {
    "name": "ipython",
    "version": 3
   },
   "file_extension": ".py",
   "mimetype": "text/x-python",
   "name": "python",
   "nbconvert_exporter": "python",
   "pygments_lexer": "ipython3",
   "version": "3.12.3"
  }
 },
 "nbformat": 4,
 "nbformat_minor": 5
}
